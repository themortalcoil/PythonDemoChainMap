{
 "cells": [
  {
   "cell_type": "code",
   "execution_count": 12,
   "metadata": {},
   "outputs": [
    {
     "name": "stdout",
     "output_type": "stream",
     "text": [
      "chain[b] = 2\n"
     ]
    }
   ],
   "source": [
    "from collections import ChainMap\n",
    "\n",
    "\n",
    "# create three dictionaries to demonstrate the ChainMap\n",
    "dict1 = {\n",
    "    'a': 1,\n",
    "    'b': 2\n",
    "    }\n",
    "dict2 = {'b': 3, 'c': 4}\n",
    "dict3 = {'d': 5}\n",
    "\n",
    "# create a ChainMap\n",
    "chain = ChainMap(dict1, dict2, dict3)\n",
    "key = 'b'\n",
    "value = chain[key]\n",
    "print(f'chain[{key}] = {value}')"
   ]
  },
  {
   "cell_type": "code",
   "execution_count": 17,
   "metadata": {},
   "outputs": [
    {
     "name": "stdout",
     "output_type": "stream",
     "text": [
      "chain.maps[0].values() = [1, 2]\n",
      "chain.maps[1].values() = [3, 4]\n",
      "chain.maps[2].values() = [5]\n"
     ]
    }
   ],
   "source": [
    "# get both values for key 'b'\n",
    "values = list(chain.maps[0].values())\n",
    "print(f'chain.maps[0].values() = {values}')\n",
    "values = list(chain.maps[1].values())\n",
    "print(f'chain.maps[1].values() = {values}')\n",
    "values = list(chain.maps[2].values())\n",
    "print(f'chain.maps[2].values() = {values}')"
   ]
  },
  {
   "cell_type": "code",
   "execution_count": 23,
   "metadata": {},
   "outputs": [
    {
     "name": "stdout",
     "output_type": "stream",
     "text": [
      "chain.keys() = ['d', 'b', 'c', 'a']\n"
     ]
    }
   ],
   "source": [
    "# get all keys\n",
    "keys = list(chain.keys())\n",
    "print(f'chain.keys() = {keys}')"
   ]
  },
  {
   "cell_type": "code",
   "execution_count": 24,
   "metadata": {},
   "outputs": [
    {
     "data": {
      "text/plain": [
       "[{'a': 1, 'b': 2}, {'b': 3, 'c': 4}, {'d': 5}]"
      ]
     },
     "execution_count": 24,
     "metadata": {},
     "output_type": "execute_result"
    }
   ],
   "source": [
    "chain.maps"
   ]
  },
  {
   "cell_type": "code",
   "execution_count": 26,
   "metadata": {},
   "outputs": [
    {
     "name": "stdout",
     "output_type": "stream",
     "text": [
      "b\n",
      "b = 2\n",
      "b = 3\n"
     ]
    }
   ],
   "source": [
    "# print all values for key 'b'\n",
    "print(key)\n",
    "for dictionary in chain.maps:\n",
    "    if key in dictionary:\n",
    "        print(f'{key} = {dictionary[key]}')"
   ]
  },
  {
   "cell_type": "code",
   "execution_count": 42,
   "metadata": {},
   "outputs": [
    {
     "name": "stdout",
     "output_type": "stream",
     "text": [
      "b\n",
      "b = [{0: 2}, {1: 3}]\n",
      "dict1 in chain = True\n",
      "chain.maps[0] = {'a': 1, 'b': 2}\n",
      "{'a': 1, 'b': 2} = True at index 0\n",
      "key = b, dict1 index in chain = chain.maps.index(dict1) = 0 so chain.maps[chain.maps.index(dict1)][key] = 2\n"
     ]
    }
   ],
   "source": [
    "print(key)\n",
    "values = [dict({index: dictionary[key]}) for (index, dictionary) in enumerate(chain.maps) if key in dictionary]\n",
    "print(f'{key} = {values}')\n",
    "print(f'dict1 in chain = {dict1 in chain.maps}')\n",
    "print(f'chain.maps[0] = {chain.maps[0]}')\n",
    "# retrieve dict1 from the chain\n",
    "print(f'{dict1} = {dict1 in chain.maps} at index {chain.maps.index(dict1)}')\n",
    "print(f'key = {key}, dict1 index in chain = chain.maps.index(dict1) = {chain.maps.index(dict1)} so chain.maps[chain.maps.index(dict1)][key] = {chain.maps[chain.maps.index(dict1)][key]}')"
   ]
  }
 ],
 "metadata": {
  "kernelspec": {
   "display_name": "Python 3",
   "language": "python",
   "name": "python3"
  },
  "language_info": {
   "codemirror_mode": {
    "name": "ipython",
    "version": 3
   },
   "file_extension": ".py",
   "mimetype": "text/x-python",
   "name": "python",
   "nbconvert_exporter": "python",
   "pygments_lexer": "ipython3",
   "version": "3.12.2"
  }
 },
 "nbformat": 4,
 "nbformat_minor": 2
}
